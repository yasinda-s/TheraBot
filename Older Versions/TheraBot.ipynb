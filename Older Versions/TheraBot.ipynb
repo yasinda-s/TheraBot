{
 "cells": [
  {
   "cell_type": "code",
   "execution_count": 1,
   "id": "bc8a3b28",
   "metadata": {},
   "outputs": [
    {
     "name": "stderr",
     "output_type": "stream",
     "text": [
      "D:\\Anaconda3\\envs\\ProjectEnv\\lib\\site-packages\\numpy\\_distributor_init.py:32: UserWarning: loaded more than 1 DLL from .libs:\n",
      "D:\\Anaconda3\\envs\\ProjectEnv\\lib\\site-packages\\numpy\\.libs\\libopenblas.GK7GX5KEQ4F6UYO3P26ULGBQYHGQO7J4.gfortran-win_amd64.dll\n",
      "D:\\Anaconda3\\envs\\ProjectEnv\\lib\\site-packages\\numpy\\.libs\\libopenblas.XWYDX2IKJW2NMTWSFYNGFUWKQU3LYTCZ.gfortran-win_amd64.dll\n",
      "  stacklevel=1)\n"
     ]
    }
   ],
   "source": [
    "import keras\n",
    "from keras.models import load_model\n",
    "from sklearn.metrics import classification_report, confusion_matrix\n",
    "import matplotlib.pyplot as plt\n",
    "import numpy as np\n",
    "%config InlineBackend.figure_format = 'retina'\n",
    "import itertools, pickle\n",
    "\n",
    "with open('tokenizer.pickle', 'rb') as handle:\n",
    "    tokenizer = pickle.load(handle)\n",
    "\n",
    "classes = [\"neutral\", \"happy\", \"sad\", \"love\", \"anger\"]"
   ]
  },
  {
   "cell_type": "code",
   "execution_count": 2,
   "id": "c1429ffa",
   "metadata": {},
   "outputs": [],
   "source": [
    "model = load_model(\"therabot.h5\")"
   ]
  },
  {
   "cell_type": "code",
   "execution_count": 9,
   "id": "d8bf0599",
   "metadata": {},
   "outputs": [],
   "source": [
    "emotion_scores = {\n",
    "    \"neutral\" : 0,\n",
    "    \"happy\" : 0,\n",
    "    \"sad\" : 0,\n",
    "    \"love\" : 0,\n",
    "    \"anger\" : 0\n",
    "}\n",
    "\n",
    "def emotion_score(y_prob):\n",
    "    emotion_scores[\"neutral\"] += y_prob[0][0]\n",
    "    emotion_scores[\"happy\"] += y_prob[0][1]\n",
    "    emotion_scores[\"sad\"] += y_prob[0][2]\n",
    "    emotion_scores[\"love\"] += y_prob[0][3]\n",
    "    emotion_scores[\"anger\"] += y_prob[0][4]\n",
    "    \n",
    "def get_highest_key():\n",
    "  highest_value = 0\n",
    "  for key in emotion_scores.keys():\n",
    "    if emotion_scores[key] >= highest_value:\n",
    "      highest_value = emotion_scores[key]\n",
    "      highest_key = key\n",
    "  return highest_key\n",
    "\n",
    "def consolidation_message(highest_key):\n",
    "    if highest_key == 'neutral':\n",
    "      print(\"Therabot: You are Neutral\")\n",
    "    elif highest_key == 'happy':\n",
    "      print(\"Therabot: You are Happy!\")\n",
    "    elif highest_key == 'sad':\n",
    "      print(\"Therabot: You are Sad\")\n",
    "    elif highest_key == 'love':\n",
    "      print(\"Therabot: You are Love\")\n",
    "    elif highest_key == 'anger':\n",
    "        print(\"Therabot: You are Anger\")\n",
    "    else:\n",
    "      print(\"Goodbye! Take care\")\n",
    "    \n",
    "def reply(detected_intent):\n",
    "    if detected_intent == 'neutral':\n",
    "      print(\"Therabot: Neutral detected\")\n",
    "    elif detected_intent == 'happy':\n",
    "      print(\"Therabot: Happy detected!\")\n",
    "    elif detected_intent == 'sad':\n",
    "      print(\"Therabot: Sad detected\")\n",
    "    elif detected_intent == 'love':\n",
    "      print(\"Therabot: Love detected\")\n",
    "    elif detected_intent == 'anger':\n",
    "        print(\"Therabot: Anger detected\")\n",
    "    \n",
    "def fallback_intent():\n",
    "    print(\"Sorry I don't understand. Can you elaborate please?\")\n",
    "    \n",
    "def analyze_message(user_message):\n",
    "    text = [user_message]\n",
    "    sequences_test = tokenizer.texts_to_sequences(text)\n",
    "    MAX_SEQUENCE_LENGTH = 30\n",
    "    data_int_t = pad_sequences(sequences_test, padding='pre', maxlen=(MAX_SEQUENCE_LENGTH-5))\n",
    "    data_test = pad_sequences(data_int_t, padding='post', maxlen=(MAX_SEQUENCE_LENGTH))\n",
    "    return data_test\n",
    "\n",
    "def predict_emotion(data_test, y_prob):\n",
    "#     y_prob = model.predict(data_test)\n",
    "    for n, prediction in enumerate(y_prob):\n",
    "        pred = y_prob.argmax(axis=-1)[n]\n",
    "#         print(y_prob[0])\n",
    "    return pred"
   ]
  },
  {
   "cell_type": "code",
   "execution_count": 10,
   "id": "049c4723",
   "metadata": {},
   "outputs": [
    {
     "name": "stdout",
     "output_type": "stream",
     "text": [
      "Therabot: Hi, my name is TheraBot\n",
      "Therabot: What is your name?\n",
      "yasinda\n",
      "User: im joyful\n",
      "[0.41344598 0.31809872 0.16755542 0.08318966 0.01771014]\n",
      "Therabot: Neutral detected\n",
      "User: im happy\n",
      "[0.32890812 0.3375359  0.1609289  0.15923655 0.01339055]\n",
      "Therabot: Happy detected!\n",
      "User: quit\n",
      "Therabot: You are Neutral\n"
     ]
    }
   ],
   "source": [
    "from keras.preprocessing.sequence import pad_sequences\n",
    "\n",
    "print(\"Therabot: Hi, my name is TheraBot\")\n",
    "print(\"Therabot: What is your name?\")\n",
    "user_name = input()\n",
    "while True:\n",
    "    print(\"User: \", end=\"\")\n",
    "    user_message = input()\n",
    "    if user_message!=\"quit\":\n",
    "        data_test = analyze_message(user_message)\n",
    "        y_prob = model.predict(data_test)\n",
    "        pred = predict_emotion(data_test,y_prob)\n",
    "        #print(y_prob[0])\n",
    "        highest_emotion_confidence = y_prob[0][pred]\n",
    "        if highest_emotion_confidence > 0.33:\n",
    "            reply(classes[pred])\n",
    "        else:\n",
    "            fallback_intent()\n",
    "        emotion_score(y_prob)\n",
    "    elif user_message.lower() == \"quit\":\n",
    "        highest_key = get_highest_key()\n",
    "        consolidation_message(highest_key)\n",
    "        break"
   ]
  },
  {
   "cell_type": "code",
   "execution_count": null,
   "id": "ba2dd556",
   "metadata": {},
   "outputs": [],
   "source": []
  }
 ],
 "metadata": {
  "kernelspec": {
   "display_name": "Python 3 (ipykernel)",
   "language": "python",
   "name": "python3"
  },
  "language_info": {
   "codemirror_mode": {
    "name": "ipython",
    "version": 3
   },
   "file_extension": ".py",
   "mimetype": "text/x-python",
   "name": "python",
   "nbconvert_exporter": "python",
   "pygments_lexer": "ipython3",
   "version": "3.7.10"
  }
 },
 "nbformat": 4,
 "nbformat_minor": 5
}
